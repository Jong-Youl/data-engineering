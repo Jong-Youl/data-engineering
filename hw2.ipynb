{
 "cells": [
  {
   "cell_type": "code",
   "execution_count": 2,
   "id": "34551fff-ee1a-4c3a-b2f7-1ca109895e4e",
   "metadata": {},
   "outputs": [],
   "source": [
    "subjects = [\"physics\", \"calculus\", \"poetry\", \"history\"]\n",
    "grades = [98,97,85,88] "
   ]
  },
  {
   "cell_type": "code",
   "execution_count": 4,
   "id": "116fbc78-1820-4297-8472-89b86cd0e966",
   "metadata": {},
   "outputs": [
    {
     "name": "stdout",
     "output_type": "stream",
     "text": [
      "[['physics', 98], ['calculus', 97], ['poetry', 85], ['history', 88]]\n"
     ]
    }
   ],
   "source": [
    "gradebook = [[subjects[0], grades[0]],[subjects[1], grades[1]],[subjects[2], grades[2]],[subjects[3], grades[3]]]\n",
    "print(gradebook)"
   ]
  },
  {
   "cell_type": "code",
   "execution_count": 11,
   "id": "d4a7676e-321a-4f38-b942-ac4000ebf6ee",
   "metadata": {},
   "outputs": [
    {
     "name": "stdout",
     "output_type": "stream",
     "text": [
      "[['physics', 98], ['calculus', 97], ['poetry', 85], ['history', 88], ['computer sciece', 100], ['visual arts', 93], ['computer sciece', 100], ['visual arts', 93]]\n"
     ]
    }
   ],
   "source": [
    "gradebook.append([\"computer sciece\", 100]) \n",
    "gradebook.append([\"visual arts\", 93])\n",
    "print(gradebook)"
   ]
  },
  {
   "cell_type": "code",
   "execution_count": 12,
   "id": "6178a5cf-728c-4e53-ade7-9ab89283bf78",
   "metadata": {},
   "outputs": [],
   "source": [
    "gradebook[5][1] = 98\n",
    "gradebook[2].remove(85)\n",
    "gradebook[2].append(\"pass\")"
   ]
  },
  {
   "cell_type": "code",
   "execution_count": 13,
   "id": "c25c70b9-7f58-4b1f-a0da-3cba011aaa31",
   "metadata": {},
   "outputs": [],
   "source": [
    "last_semester_gradebook = [[\"politics\", 80], [\"latin\", 96], [\"dance\", 97], [\"architecture\", 65]]"
   ]
  },
  {
   "cell_type": "code",
   "execution_count": 16,
   "id": "743bd18f-af95-4e7f-84b9-52efb2889e1a",
   "metadata": {},
   "outputs": [
    {
     "name": "stdout",
     "output_type": "stream",
     "text": [
      "[['physics', 98], ['calculus', 97], ['poetry', 'pass'], ['history', 88], ['computer sciece', 100], ['visual arts', 98], ['computer sciece', 100], ['visual arts', 93], ['politics', 80], ['latin', 96], ['dance', 97], ['architecture', 65]]\n"
     ]
    }
   ],
   "source": [
    "full_gradebook = gradebook + last_semester_gradebook\n",
    "print(full_gradebook)"
   ]
  }
 ],
 "metadata": {
  "kernelspec": {
   "display_name": "Python 3 (ipykernel)",
   "language": "python",
   "name": "python3"
  },
  "language_info": {
   "codemirror_mode": {
    "name": "ipython",
    "version": 3
   },
   "file_extension": ".py",
   "mimetype": "text/x-python",
   "name": "python",
   "nbconvert_exporter": "python",
   "pygments_lexer": "ipython3",
   "version": "3.9.7"
  }
 },
 "nbformat": 4,
 "nbformat_minor": 5
}
