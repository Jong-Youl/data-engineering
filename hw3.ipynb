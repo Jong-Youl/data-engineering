{
 "cells": [
  {
   "cell_type": "code",
   "execution_count": 1,
   "id": "9af3a96f-8b68-467c-acf3-a80621d4edc7",
   "metadata": {},
   "outputs": [],
   "source": [
    "hairstyles = [\"bouffant\", \"pixie\", \"dreadlocks\", \"crew\", \"bowl\", \"bob\", \"mohawk\", \"flattop\"]\n",
    "prices = [30, 25, 40, 20, 20, 35, 50, 35]\n",
    "last_week = [2, 3, 5, 8, 4, 4, 6, 2]"
   ]
  },
  {
   "cell_type": "code",
   "execution_count": 2,
   "id": "2ed370ad-1407-42f3-8f3e-cdc430ed7deb",
   "metadata": {},
   "outputs": [],
   "source": [
    "#1\n",
    "total_price = 0"
   ]
  },
  {
   "cell_type": "code",
   "execution_count": 3,
   "id": "6e92fa5a-a7d2-47a8-9949-98c5ff8fef02",
   "metadata": {},
   "outputs": [],
   "source": [
    "#2\n",
    "for i in range(len(prices)):\n",
    "    total_price += prices[i]"
   ]
  },
  {
   "cell_type": "code",
   "execution_count": 4,
   "id": "d4130153-452f-4a85-aa0f-8dd6c61ea2fb",
   "metadata": {},
   "outputs": [],
   "source": [
    "#3\n",
    "average_price = total_price/len(prices)"
   ]
  },
  {
   "cell_type": "code",
   "execution_count": 7,
   "id": "ad7450b2-282e-44eb-953d-8c9d7b7eb4dc",
   "metadata": {},
   "outputs": [
    {
     "name": "stdout",
     "output_type": "stream",
     "text": [
      "Average price is  31.875\n"
     ]
    }
   ],
   "source": [
    "#4\n",
    "print('Average price is ', average_price)"
   ]
  },
  {
   "cell_type": "code",
   "execution_count": 21,
   "id": "e6df547f-2542-4d05-b5b4-38f7295dbe08",
   "metadata": {},
   "outputs": [],
   "source": [
    "#5\n",
    "new_prices = [i-5 for i in prices]"
   ]
  },
  {
   "cell_type": "code",
   "execution_count": 22,
   "id": "c3031609-e44b-4aac-b047-906ee55da7c8",
   "metadata": {},
   "outputs": [
    {
     "name": "stdout",
     "output_type": "stream",
     "text": [
      "[25, 20, 35, 15, 15, 30, 45, 30]\n"
     ]
    }
   ],
   "source": [
    "#6\n",
    "print(new_prices)"
   ]
  },
  {
   "cell_type": "code",
   "execution_count": 28,
   "id": "61bea9e2-5f7f-47b8-a27a-f7a821f3bd40",
   "metadata": {},
   "outputs": [],
   "source": [
    "#7\n",
    "total_revenue = 0"
   ]
  },
  {
   "cell_type": "code",
   "execution_count": 29,
   "id": "e04a52c3-78be-4f52-a205-493041cf2bca",
   "metadata": {},
   "outputs": [
    {
     "name": "stdout",
     "output_type": "stream",
     "text": [
      "1085\n"
     ]
    }
   ],
   "source": [
    "#8 , 9,  10\n",
    "for i in range(len(hairstyles)):\n",
    "    total_revenue += prices[i] * last_week[i]\n",
    "    \n",
    "print(total_revenue)"
   ]
  },
  {
   "cell_type": "code",
   "execution_count": 30,
   "id": "a9ab84fb-4df0-4ed4-b254-ea81eb36ff88",
   "metadata": {},
   "outputs": [
    {
     "name": "stdout",
     "output_type": "stream",
     "text": [
      "155.0\n"
     ]
    }
   ],
   "source": [
    "#11\n",
    "average_daily_revenue = total_revenue / 7\n",
    "print(average_daily_revenue)"
   ]
  },
  {
   "cell_type": "code",
   "execution_count": 33,
   "id": "5bada246-712b-431d-89be-43e32855bd90",
   "metadata": {},
   "outputs": [
    {
     "name": "stdout",
     "output_type": "stream",
     "text": [
      "['bouffant', 'pixie', 'crew', 'bowl']\n"
     ]
    }
   ],
   "source": [
    "#12, 13\n",
    "cuts_under_30 = [hairstyles[i] for i  in range(len(new_prices)) if new_prices[i] < 30]\n",
    "print(cuts_under_30)"
   ]
  }
 ],
 "metadata": {
  "kernelspec": {
   "display_name": "Python 3 (ipykernel)",
   "language": "python",
   "name": "python3"
  },
  "language_info": {
   "codemirror_mode": {
    "name": "ipython",
    "version": 3
   },
   "file_extension": ".py",
   "mimetype": "text/x-python",
   "name": "python",
   "nbconvert_exporter": "python",
   "pygments_lexer": "ipython3",
   "version": "3.9.7"
  }
 },
 "nbformat": 4,
 "nbformat_minor": 5
}
